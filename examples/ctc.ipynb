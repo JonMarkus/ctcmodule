{
 "cells": [
  {
   "cell_type": "code",
   "execution_count": 1,
   "id": "730a55bb-616a-4d91-bd17-59a444de8900",
   "metadata": {},
   "outputs": [
    {
     "name": "stdout",
     "output_type": "stream",
     "text": [
      "\n",
      "              -- N E S T --\n",
      "  Copyright (C) 2004 The NEST Initiative\n",
      "\n",
      " Version: 3.8.0-post0.dev0\n",
      " Built: Mar 17 2025 22:55:56\n",
      "\n",
      " This program is provided AS IS and comes with\n",
      " NO WARRANTY. See the file LICENSE for details.\n",
      "\n",
      " Problems or suggestions?\n",
      "   Visit https://www.nest-simulator.org\n",
      "\n",
      " Type 'nest.help()' to find out more about NEST.\n",
      "\n",
      "\n",
      "Mar 20 21:19:09 Install [Info]: \n",
      "    loaded module ctcmodule\n"
     ]
    }
   ],
   "source": [
    "import nest\n",
    "nest.Install('ctcmodule')"
   ]
  },
  {
   "cell_type": "code",
   "execution_count": 2,
   "id": "9690780b-6c4d-47f9-a982-774370c9976c",
   "metadata": {},
   "outputs": [
    {
     "name": "stdout",
     "output_type": "stream",
     "text": [
      "\n",
      "Mar 20 21:19:37 correlation_detector [Info]: \n",
      "    Default for delta_tau changed from 0.5 to 5 ms\n",
      "\n",
      "Mar 20 21:19:37 correlomatrix_detector [Info]: \n",
      "    Default for delta_tau changed from 0.5 to 5 ms\n",
      "\n",
      "Mar 20 21:19:37 correlospinmatrix_detector [Info]: \n",
      "    Default for delta_tau changed from 0.1 to 1 ms\n",
      "\n",
      "Mar 20 21:19:37 SimulationManager::set_status [Info]: \n",
      "    Temporal resolution changed from 0.1 to 1 ms.\n"
     ]
    }
   ],
   "source": [
    "nest.resolution = 1"
   ]
  },
  {
   "cell_type": "code",
   "execution_count": 3,
   "id": "6d8ce607-e656-4488-99cc-ec19c2271aca",
   "metadata": {},
   "outputs": [],
   "source": [
    "r = nest.Create('eprop_iaf_bsshslm_2020', 10);\n",
    "nest.Connect(r, r, syn_spec='eprop_synapse_bsshslm_2020')"
   ]
  },
  {
   "cell_type": "code",
   "execution_count": 4,
   "id": "0b2af3ee-2169-4cd9-b2a3-8de3c28b8280",
   "metadata": {},
   "outputs": [],
   "source": [
    "o = nest.Create('ctc_readout_neuron', 3)"
   ]
  },
  {
   "cell_type": "code",
   "execution_count": 6,
   "id": "7e09d7bc-1189-442c-aaca-277c3120e814",
   "metadata": {},
   "outputs": [],
   "source": [
    "nest.Connect(r, o, syn_spec='eprop_synapse_bsshslm_2020')\n",
    "nest.Connect(o, r, syn_spec='eprop_learning_signal_connection_bsshslm_2020')"
   ]
  },
  {
   "cell_type": "code",
   "execution_count": 8,
   "id": "9241f05e-868b-4f3f-bdf1-c6fef1631603",
   "metadata": {},
   "outputs": [],
   "source": [
    "nest.Connect(o, o, syn_spec={'synapse_model': 'rate_connection_delayed', 'receptor_type': 1})"
   ]
  },
  {
   "cell_type": "code",
   "execution_count": 9,
   "id": "4333ffb3-23da-4f00-901b-1b935457ab64",
   "metadata": {},
   "outputs": [],
   "source": [
    "t = nest.Create('step_rate_generator')"
   ]
  },
  {
   "cell_type": "code",
   "execution_count": 10,
   "id": "1639ea16-0ad7-499d-b6ec-c5bf584bd28e",
   "metadata": {},
   "outputs": [],
   "source": [
    "nest.Connect(t, o, syn_spec={'synapse_model': 'rate_connection_delayed', 'receptor_type': 2})"
   ]
  },
  {
   "cell_type": "code",
   "execution_count": 11,
   "id": "a27f659d-e910-4bac-a2e6-8aa67927a085",
   "metadata": {},
   "outputs": [],
   "source": [
    "l = nest.Create('ctc_loss')"
   ]
  },
  {
   "cell_type": "code",
   "execution_count": 18,
   "id": "0f94292b-84fc-48af-a9c0-fe29bf460059",
   "metadata": {},
   "outputs": [],
   "source": [
    "nest.Connect(o, [l.global_id] * len(o), conn_spec={'rule': 'one_to_one', 'make_symmetric': True},\n",
    "             syn_spec={'synapse_model': 'gap_junction', 'receptor_type': range(1, len(o)+1)})"
   ]
  },
  {
   "cell_type": "code",
   "execution_count": 21,
   "id": "5553090b-4c06-4c73-949f-c6e084f2600b",
   "metadata": {},
   "outputs": [
    {
     "data": {
      "text/plain": [
       "175"
      ]
     },
     "execution_count": 21,
     "metadata": {},
     "output_type": "execute_result"
    }
   ],
   "source": [
    "len(nest.GetConnections())"
   ]
  },
  {
   "cell_type": "code",
   "execution_count": null,
   "id": "0df266f6-662e-4362-8cc1-a223f52d2f57",
   "metadata": {},
   "outputs": [],
   "source": [
    "nest.Simulate(10)"
   ]
  },
  {
   "cell_type": "code",
   "execution_count": null,
   "id": "5b07726e-fefc-46e2-a280-ca04ec2be612",
   "metadata": {},
   "outputs": [],
   "source": []
  }
 ],
 "metadata": {
  "kernelspec": {
   "display_name": "Python 3 (ipykernel)",
   "language": "python",
   "name": "python3"
  },
  "language_info": {
   "codemirror_mode": {
    "name": "ipython",
    "version": 3
   },
   "file_extension": ".py",
   "mimetype": "text/x-python",
   "name": "python",
   "nbconvert_exporter": "python",
   "pygments_lexer": "ipython3",
   "version": "3.12.9"
  }
 },
 "nbformat": 4,
 "nbformat_minor": 5
}
